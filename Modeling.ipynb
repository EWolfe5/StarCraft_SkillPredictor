{
 "cells": [
  {
   "cell_type": "code",
   "execution_count": 1,
   "id": "49f669f7-8623-4aae-9330-a4cf3a983d1f",
   "metadata": {},
   "outputs": [],
   "source": [
    "import numpy as np\n",
    "import pandas as pd\n",
    "import matplotlib.pyplot as plt\n",
    "import seaborn as sns\n",
    "# from src.tools import Dataset\n",
    "from src.dataset import Dataset\n",
    "from sklearn.preprocessing import MinMaxScaler, StandardScaler"
   ]
  },
  {
   "cell_type": "code",
   "execution_count": 2,
   "id": "60f6f99e-40f6-4d84-b4df-fc46ecbdcd3f",
   "metadata": {},
   "outputs": [],
   "source": [
    "dataset = Dataset(scaler=StandardScaler)"
   ]
  },
  {
   "cell_type": "markdown",
   "id": "b642767f-ed23-46cb-b6f7-868f28fa9bdd",
   "metadata": {
    "tags": []
   },
   "source": [
    "# Modeling\n",
    "___\n",
    "\n",
    "After having performed exploratory data analysis and data preprocessing in our previous notebook, we're ready to start training our machine learning model. In this notebook we will compare the performance of various models like Logistic Regression, Random Forest, Support Vector Machines (SVM), and Gradient Boosting algorithms (XGBoost). We will compare the performance of all 4 models and select the highest performing model. We will then tune the hyperparamters of our top model, and lastly we will use it to predict on new data (holdout test set)."
   ]
  },
  {
   "cell_type": "markdown",
   "id": "89494e2f-6984-4381-8338-4c6f1c33899f",
   "metadata": {
    "tags": []
   },
   "source": [
    "### Metrics Discussion\n",
    "\n",
    "We will begin our modeling process by determing ideal metrics to base the model performance. To accomplish that, let's take a look at the distribution of the target variable itself. This is an important step in the process as using the wrong metric can provide misleading results. In some cases, the target variable can be imbalanced, meaning most of the instances belong to a single or few classes compared to the rest. When dealing with imbalanced classes, it's important to look beyond accuracy and consider metrics that specifically focus on the performance of the minority class. *Precision, recall, F1-score, AUPRC*, and *AUC* are commonly used metrics in such cases."
   ]
  },
  {
   "cell_type": "code",
   "execution_count": 3,
   "id": "cbbf421c-2c47-4204-89fb-3d81b9427bbe",
   "metadata": {},
   "outputs": [
    {
     "data": {
      "image/png": "[encoded data removed]",
      "text/plain": [
       "<Figure size 1008x576 with 1 Axes>"
      ]
     },
     "metadata": {
      "needs_background": "light"
     },
     "output_type": "display_data"
    }
   ],
   "source": [
    "df = dataset.get_data()\n",
    "classes = [\n",
    "    'Bronze', 'Silver', 'Gold', 'Platinum', 'Diamond', \n",
    "    'Competitive' #'Master', 'GrandMaster', 'Professional' \n",
    "]\n",
    "ax = df.LeagueIndex.value_counts().sort_index().plot(\n",
    "    kind='bar',\n",
    "    figsize=(14,8),\n",
    "    title=\"Number of Instances in Each League Rank\"\n",
    ")\n",
    "\n",
    "ax.set_ylabel(\"Count\", size=13)\n",
    "ax.set_xticklabels(classes, rotation=360, size=13);"
   ]
  },
  {
   "cell_type": "markdown",
   "id": "79fe3888-855f-4a3b-82c7-3009097e3172",
   "metadata": {},
   "source": [
    "As can be seen from the bar chart above, the distribution of classes within the target variable is left skewed, `Platinum` and `Diamond` classes are dominant. This then means we cannot rely on *accuracy* alone as the model can achieve high accuracy on the majority class, while performing poorly on the minority class. For this particular dataset, we will use weighted `Precision`, `Recall`, and `F1-Score` which can be calculated for each individual class using the concepts of true positives, false positives, and false negatives. These metrics provide insights into the performance of the model for each class separately. For multiclass problems, precision, recall, and F1-score are usually calculated using a one-vs-rest or one-vs-one approach, depending on the specific multiclass strategy."
   ]
  },
  {
   "cell_type": "code",
   "execution_count": 4,
   "id": "400b42da-6a12-4a7c-bfe0-cbc760e057c9",
   "metadata": {},
   "outputs": [],
   "source": [
    "# from imblearn.over_sampling import RandomOverSampler\n",
    "\n",
    "X_train, X_test, y_train, y_test = dataset.get_train_test_data(scaled=True, test_size=0.2)\n",
    "\n",
    "# # Create an instance of the RandomOverSampler\n",
    "# oversampler = RandomOverSampler(random_state=42)\n",
    "\n",
    "# # Apply oversampling to the training data\n",
    "# X_train_oversampled, y_train_oversampled = oversampler.fit_resample(X_train, y_train)"
   ]
  },
  {
   "cell_type": "markdown",
   "id": "677343ef-f91e-4908-a654-17f55766bb11",
   "metadata": {},
   "source": [
    "Next we will create some functions to calculate and display key metrics of the model. We will also make use of a confusion matrix to better assess the kind of classifications the model makes. If the model performs poorly, we can see where the model tends to miss classify players ranks."
   ]
  },
  {
   "cell_type": "code",
   "execution_count": 5,
   "id": "bbaa5ca3-4303-4098-92d3-2c8ebbd1b0fd",
   "metadata": {},
   "outputs": [],
   "source": [
    "from sklearn.metrics import f1_score, precision_score, recall_score, accuracy_score, confusion_matrix, ConfusionMatrixDisplay\n",
    "\n",
    "def get_metrics(ytrue, ypred):\n",
    "    '''\n",
    "        Calculates the key metrics of the results using concepts of true positives,\n",
    "        true negatives, false positives, and false negative.\n",
    "    '''\n",
    "    accuracy = accuracy_score(ytrue, ypred)\n",
    "    precision = precision_score(ytrue, ypred, average='weighted', zero_division=0)\n",
    "    recall = recall_score(ytrue, ypred, average='weighted', zero_division=0)\n",
    "    F1score = f1_score(ytrue, ypred, average='weighted', zero_division=0)\n",
    "    \n",
    "    metrics = {\n",
    "        'accuracy' : accuracy,\n",
    "        'Precision': precision,\n",
    "        'Recall'   : recall,\n",
    "        'F1score'  : F1score\n",
    "    }\n",
    "    return metrics\n",
    "\n",
    "def print_metrics(ypredTrain=None, ytrueTrain=y_train, \n",
    "                  ypredTest=None, ytrueTest=y_test):\n",
    "    '''\n",
    "        Prints the key metrics of the results.\n",
    "    '''\n",
    "  \n",
    "    trainmetrics = get_metrics(ytrueTrain, ypredTrain)\n",
    "    \n",
    "    if ypredTest is not None:\n",
    "        testmetrics = get_metrics(ytrueTest, ypredTest)\n",
    "\n",
    "\n",
    "    print('{:<12} | {:<8}  | {:<8}'.format('Metric', 'Value', 'Dataset'))\n",
    "    print('_'*34)\n",
    "    print('{:<12} | {:<8}  | {:<8}'.format('Accuracy', round(trainmetrics['accuracy'], 4), 'train'))\n",
    "    print('{:<12} | {:<8}  | {:<8}'.format('Precision', round(trainmetrics['Precision'], 4), 'train'))\n",
    "    print('{:<12} | {:<8}  | {:<8}'.format('Recall', round(trainmetrics['Recall'], 4), 'train'))\n",
    "    print('{:<12} | {:<8}  | {:<8}'.format('F1Score', round(trainmetrics['F1score'], 4), 'train'))\n",
    "    print('_'*34)\n",
    "    \n",
    "    if ypredTest is not None:\n",
    "        print('{:<12} | {:<8}  | {:<8}'.format('Accuracy', round(testmetrics['accuracy'], 4), 'test'))\n",
    "        print('{:<12} | {:<8}  | {:<8}'.format('Precision', round(testmetrics['Precision'], 4), 'test'))\n",
    "        print('{:<12} | {:<8}  | {:<8}'.format('Recall', round(testmetrics['Recall'], 4), 'test'))\n",
    "        print('{:<12} | {:<8}  | {:<8}'.format('F1Score', round(testmetrics['F1score'], 4), 'test'))\n",
    "        \n",
    "        \n",
    "def plot_heatmap(ytrue, ypred):\n",
    "    cm = confusion_matrix(ytrue, ypred)\n",
    "    disp = ConfusionMatrixDisplay(confusion_matrix=cm,\n",
    "                               display_labels=classes)\n",
    "    disp.plot()\n",
    "    plt.show()"
   ]
  },
  {
   "cell_type": "markdown",
   "id": "81afe84d-08b4-4f81-abd0-96f0777de6d0",
   "metadata": {
    "jp-MarkdownHeadingCollapsed": true,
    "tags": []
   },
   "source": [
    "### Model Training and Evaluation\n",
    "___\n",
    "\n",
    "Now that we have selected the metrics we will be using, we can begin to train our selected models. We will also evaluate and compare the performance of all models and select a final model that will be used for the rest of our project."
   ]
  },
  {
   "cell_type": "code",
   "execution_count": 6,
   "id": "7ab9eae1-3c72-49e4-a050-a085046cacdd",
   "metadata": {},
   "outputs": [],
   "source": [
    "# from imblearn.combine import SMOTEENN\n",
    "# from imblearn.under_sampling import RandomUnderSampler\n",
    "\n",
    "# # Split the dataset into features (X) and target variable (y)\n",
    "# scaled_data = dataset.get_data(True)\n",
    "# X = scaled_data.drop('LeagueIndex', axis=1)\n",
    "# y = scaled_data.LeagueIndex\n",
    "\n",
    "# # Create an instance of undersampler\n",
    "# under_sampler = RandomUnderSampler()  # Adjust the sampling_strategy as desired\n",
    "\n",
    "# # Create an instance of oversampler\n",
    "# over_sampler = SMOTEENN()\n",
    "\n",
    "# # Apply undersampling to the majority class samples\n",
    "# X_under, y_under = under_sampler.fit_resample(X, y)\n",
    "\n",
    "# # Apply oversampling to the minority class samples\n",
    "# X_resampled, y_resampled = over_sampler.fit_resample(X_under, y_under)"
   ]
  },
  {
   "cell_type": "code",
   "execution_count": 10,
   "id": "0c1fe3c5-9062-4c91-831c-c5756471d907",
   "metadata": {},
   "outputs": [],
   "source": [
    "from sklearn.ensemble import RandomForestClassifier\n",
    "from sklearn.linear_model import LogisticRegression\n",
    "from sklearn.svm import SVC\n",
    "from xgboost import XGBClassifier\n",
    "\n",
    "SEED = 42\n",
    "\n",
    "# Instantiate the models\n",
    "rfr = RandomForestClassifier(\n",
    "    random_state=SEED\n",
    ")\n",
    "\n",
    "logreg = LogisticRegression(\n",
    "    solver='liblinear', \n",
    "    random_state=SEED\n",
    ")\n",
    "\n",
    "svc = SVC(\n",
    "    kernel='linear', \n",
    "    random_state=SEED\n",
    ")\n",
    "\n",
    "xgb = XGBClassifier(\n",
    "    objective='multi:softmax',  # objective function for multiclass classification\n",
    "    num_class=y_train.nunique(),  # number of classes in the target variable\n",
    "    learning_rate=0.1,  # learning rate\n",
    "    n_estimators=100,  # number of trees in the model,\n",
    "    random_state=SEED\n",
    ")"
   ]
  },
  {
   "cell_type": "code",
   "execution_count": 11,
   "id": "f175c4fb-ca45-4b8f-8d1c-e7e2bb0c1bde",
   "metadata": {},
   "outputs": [],
   "source": [
    "# Train the models\n",
    "rfr.fit(X_train, y_train)\n",
    "rfr_pred = rfr.predict(X_train)\n",
    "\n",
    "logreg.fit(X_train, y_train)\n",
    "logreg_pred = logreg.predict(X_train)\n",
    "\n",
    "svc.fit(X_train, y_train)\n",
    "svc_pred = svc.predict(X_train)\n",
    "\n",
    "# We subtract 1 during fitting because XGB model expects variables to be encoded from [0, N].\n",
    "# We then add 1 to its predictions to match the labels of the true data.\n",
    "xgb.fit(X_train, y_train - 1) \n",
    "xgb_pred = xgb.predict(X_train) + 1"
   ]
  },
  {
   "cell_type": "code",
   "execution_count": 13,
   "id": "0362463e-00ff-483d-907e-e1ff6620ddd7",
   "metadata": {},
   "outputs": [
    {
     "name": "stdout",
     "output_type": "stream",
     "text": [
      "Random Forest\n",
      "\n",
      "Metric       | Value     | Dataset \n",
      "__________________________________\n",
      "Accuracy     | 1.0       | train   \n",
      "Precision    | 1.0       | train   \n",
      "Recall       | 1.0       | train   \n",
      "F1Score      | 1.0       | train   \n",
      "__________________________________\n",
      "Accuracy     | 0.408     | test    \n",
      "Precision    | 0.409     | test    \n",
      "Recall       | 0.408     | test    \n",
      "F1Score      | 0.4067    | test    \n",
      "\n",
      "Logistic Regressor\n",
      "\n",
      "Metric       | Value     | Dataset \n",
      "__________________________________\n",
      "Accuracy     | 0.4488    | train   \n",
      "Precision    | 0.4522    | train   \n",
      "Recall       | 0.4488    | train   \n",
      "F1Score      | 0.4328    | train   \n",
      "__________________________________\n",
      "Accuracy     | 0.461     | test    \n",
      "Precision    | 0.4772    | test    \n",
      "Recall       | 0.461     | test    \n",
      "F1Score      | 0.4441    | test    \n",
      "\n",
      "Support Vector Machines (SVM)\n",
      "\n",
      "Metric       | Value     | Dataset \n",
      "__________________________________\n",
      "Accuracy     | 0.4602    | train   \n",
      "Precision    | 0.4703    | train   \n",
      "Recall       | 0.4602    | train   \n",
      "F1Score      | 0.4529    | train   \n",
      "__________________________________\n",
      "Accuracy     | 0.4595    | test    \n",
      "Precision    | 0.485     | test    \n",
      "Recall       | 0.4595    | test    \n",
      "F1Score      | 0.456     | test    \n",
      "\n",
      "XGB Boost Classifier\n",
      "\n",
      "Metric       | Value     | Dataset \n",
      "__________________________________\n",
      "Accuracy     | 0.9823    | train   \n",
      "Precision    | 0.9824    | train   \n",
      "Recall       | 0.9823    | train   \n",
      "F1Score      | 0.9823    | train   \n",
      "__________________________________\n",
      "Accuracy     | 0.2504    | test    \n",
      "Precision    | 0.2146    | test    \n",
      "Recall       | 0.2504    | test    \n",
      "F1Score      | 0.2258    | test    \n"
     ]
    }
   ],
   "source": [
    "# Compare the models\n",
    "print('Random Forest\\n')\n",
    "print_metrics(ypredTrain=rfr_pred,\n",
    "              ypredTest=rfr.predict(X_test))\n",
    "\n",
    "print('\\nLogistic Regressor\\n')\n",
    "print_metrics(ypredTrain=logreg_pred,\n",
    "              ypredTest=logreg.predict(X_test))\n",
    "\n",
    "print('\\nSupport Vector Machines (SVM)\\n')\n",
    "print_metrics(ypredTrain=svc_pred,\n",
    "              ypredTest=svc.predict(X_test))\n",
    "\n",
    "print('\\nXGB Boost Classifier\\n')\n",
    "print_metrics(ypredTrain=xgb_pred,\n",
    "              ypredTest=xgb.predict(X_test))"
   ]
  },
  {
   "cell_type": "markdown",
   "id": "8d30e4fc-b3cf-4993-9dbd-cda761f5f7f8",
   "metadata": {},
   "source": [
    "#### Analyzing The Metrics\n",
    "\n",
    "Let's now take a moment to make a preliminary assesment of each of the models' performance.\n",
    "\n",
    "**Random Forest**:\n",
    "\n",
    "* Training accuracy, precision, recall, and F1 score are all perfect (1.0), indicating that the model has achieved perfect performance on the training data.\n",
    "* Test accuracy, precision, recall, and F1 score are relatively low (around 0.408), suggesting that the model is not able to generalize well to unseen data. This indicates a potential overfitting issue.\n",
    "\n",
    "**Logistic Regression**:\n",
    "\n",
    "* Training accuracy, precision, recall, and F1 score are relatively low (around 0.4488), indicating that the model's performance on the training data is moderate.\n",
    "* Test accuracy, precision, recall, and F1 score are slightly higher than the training metrics (around 0.461), suggesting that the model is generalizing slightly better to the test data compared to the training data.\n",
    "\n",
    "**Support Vector Machines (SVM):**\n",
    "\n",
    "* Training accuracy, precision, recall, and F1 score are similar to the Logistic Regression model (around 0.4602), indicating comparable performance on the training data.\n",
    "* Test accuracy, precision, recall, and F1 score are also similar to the Logistic Regression model (around 0.4595), suggesting similar generalization performance on the test data.\n",
    "\n",
    "**XGBoost Classifier:**\n",
    "\n",
    "* Training accuracy, precision, recall, and F1 score are extremely high (around 0.9823), indicating near-perfect performance on the training data.\n",
    "* Test accuracy, precision, recall, and F1 score are considerably lower (around 0.2504), indicating poor generalization performance on the test data. This suggests a significant overfitting issue with the model.\n",
    "\n",
    "Considering the base performance of these models, it is challenging to choose a single model to optimize based solely on their base structure. All models exhibit suboptimal performance on the test set, indicating a need for further improvement. If we had to choose one of these models for optimization, the ideal candidate would be the Logistic Regression model or the Random Forest Regressor. They show slightly better performance compared to the other models, with relatively higher and steady precision and F1 scores on the test set.\n",
    "\n",
    "However, it's important to note that these models are currently underperforming, and there is a clear need for hyperparameter optimization, feature selection, or potentially exploring other algorithms to improve their performance. Optimization techniques such as grid search or random search can be used to tune the hyperparameters of the chosen model to improve its performance. Additionally, considering techniques like feature selection or engineering, ensemble methods, or even trying more advanced models could also be beneficial in enhancing the predictive power of the model.\n",
    "\n",
    "We also make an important note about the dataset as a whole. Based on the XGB and Random Forest scores, it indicates overfitting as we mentioned on the analyis of their metrics. Another potential factor would the imbalance  on the dataset. The amount of players on `Bronze` and `Silver` ranks combined would allow for better distribution but as is, hinders the ability of models to determine a pattern. One method I attempted to use was oversampling of the minority class, undersampling of the majority class and hybrid sampling. All three methods did not significantly improve the performance of the models and we chose to not pursue that method further. We will instead attempt to optimize the hyperparameters of the best models so far."
   ]
  },
  {
   "cell_type": "markdown",
   "id": "d806990a-f841-42af-bb72-777c3a8c8257",
   "metadata": {
    "tags": []
   },
   "source": [
    "## Optimization and Validation\n",
    "___\n",
    "\n",
    "In the previous section, we analyzed the performance of 4 base models. Althought the results showed suboptimal performance across all models, the Logistic Regression and Random Forest models seem to be more promising. In this section we will be performing hyperparameter optimization of our best model to determine the best parameters that allows us to achieve the best and most robust results possible, we will acomplish this task using cross-validation techniques. It is important to reiterate the fact the our target class, `LeagueIndex`, is imbalanced, and we have previously mentioned cannot rely on accuracy alone to determine model performance. For this next stage we will create a custom scorer that combines a **balanced accuracy score** and weighted F1-score to rank the performance of the model accross multiple iterations."
   ]
  },
  {
   "cell_type": "code",
   "execution_count": 14,
   "id": "f8892424-6b41-4937-acae-d037130e889c",
   "metadata": {},
   "outputs": [],
   "source": [
    "from sklearn.model_selection import GridSearchCV\n",
    "from sklearn.metrics import make_scorer, f1_score, balanced_accuracy_score\n",
    "\n",
    "model = LogisticRegression(max_iter=10000)\n",
    "\n",
    "# Define custom scoring metrics\n",
    "scoring_metrics = {\n",
    "    'Weighted F1-score': make_scorer(f1_score, average='weighted'),\n",
    "    'Balanced accuracy': make_scorer(balanced_accuracy_score)\n",
    "}\n",
    "\n",
    "# Define the parameter grid for hyperparameter tuning\n",
    "param_grid = {\n",
    "    'C': [0.1, 1.0, 10.0, 50, 100],\n",
    "    'penalty': ['l1', 'l2'],\n",
    "    'solver': ['liblinear', 'saga']\n",
    "}\n",
    "\n",
    "# Create the GridSearchCV object\n",
    "grid_search = GridSearchCV(model, param_grid, scoring=scoring_metrics, \n",
    "                           refit='Weighted F1-score', cv=5)"
   ]
  },
  {
   "cell_type": "code",
   "execution_count": 24,
   "id": "9fd21c4f-74cf-43fd-be93-903d4335b91a",
   "metadata": {
    "scrolled": true,
    "tags": []
   },
   "outputs": [],
   "source": [
    "# Perform grid search\n",
    "grid_search.fit(X_train, y_train)\n",
    "\n",
    "# Get the best scores and parameters\n",
    "best_scores = grid_search.best_score_\n",
    "best_params = grid_search.best_params_\n",
    "best_logreg = grid_search.best_estimator_"
   ]
  },
  {
   "cell_type": "code",
   "execution_count": 25,
   "id": "b5c55665-cb1b-45d7-964c-033307b21637",
   "metadata": {},
   "outputs": [
    {
     "name": "stdout",
     "output_type": "stream",
     "text": [
      "Best C: 50\n",
      "Best penalty: l2\n",
      "Best solver: saga\n",
      "Best score: 43.74%\n"
     ]
    }
   ],
   "source": [
    "# Print the results\n",
    "for metric, score in best_params.items():\n",
    "    print(f'Best {metric}: {score}')\n",
    "print(f'Best score: {round(best_scores, 4) * 100}%')"
   ]
  },
  {
   "cell_type": "code",
   "execution_count": 28,
   "id": "4f613831-695e-4d8e-a108-ab5a7de1107f",
   "metadata": {},
   "outputs": [],
   "source": [
    "# Optimize RFR\n",
    "model = RandomForestClassifier(random_state=42)\n",
    "\n",
    "# Define the parameter grid for hyperparameter tuning\n",
    "param_grid = {\n",
    "    'n_estimators': [10, 100, 500, 1000],  # Number of trees in the forest\n",
    "    'max_depth': [None, 0, 5, 10],       # Maximum depth of each tree\n",
    "    'min_samples_split': [2, 5, 10],  # Minimum number of samples required to split a node\n",
    "    'min_samples_leaf': [1, 2, 4],    # Minimum number of samples required at each leaf node\n",
    "    'max_features': ['sqrt', 1, 2, 3], # Number of features to consider when looking for the best split\n",
    "}\n",
    "\n",
    "# Create the GridSearchCV object\n",
    "grid_search = GridSearchCV(\n",
    "    model, \n",
    "    param_grid, \n",
    "    scoring=scoring_metrics, \n",
    "    refit='Weighted F1-score', \n",
    "    cv=5\n",
    ")"
   ]
  },
  {
   "cell_type": "code",
   "execution_count": null,
   "id": "66f9a1af-1360-4283-ae7b-a328d915af13",
   "metadata": {},
   "outputs": [],
   "source": [
    "# Perform grid search\n",
    "grid_search.fit(X_train, y_train)\n",
    "\n",
    "# Get the best scores and parameters\n",
    "best_scores = grid_search.best_score_\n",
    "best_params = grid_search.best_params_\n",
    "best_rfr = grid_search.best_estimator_"
   ]
  },
  {
   "cell_type": "code",
   "execution_count": 30,
   "id": "c3ef81cc-b9bb-464e-a316-deee96b4468e",
   "metadata": {},
   "outputs": [
    {
     "name": "stdout",
     "output_type": "stream",
     "text": [
      "Best max_depth: None\n",
      "Best max_features: 3\n",
      "Best min_samples_leaf: 4\n",
      "Best min_samples_split: 10\n",
      "Best n_estimators: 100\n",
      "Best score: 43.830000000000005%\n"
     ]
    }
   ],
   "source": [
    "for metric, score in best_params.items():\n",
    "    print(f'Best {metric}: {score}')\n",
    "print(f'Best score: {round(best_scores, 4) * 100}%')"
   ]
  },
  {
   "cell_type": "code",
   "execution_count": 31,
   "id": "7383053c-2533-40f4-a824-6b6ed623e98e",
   "metadata": {},
   "outputs": [],
   "source": [
    "rfr_pred = best_rfr.predict(X_train)\n",
    "logreg_pred = best_logreg.predict(X_train)"
   ]
  },
  {
   "cell_type": "code",
   "execution_count": 32,
   "id": "c76fa734-f48f-4acc-ad94-24dde6f82a42",
   "metadata": {},
   "outputs": [
    {
     "name": "stdout",
     "output_type": "stream",
     "text": [
      "Random Forest\n",
      "\n",
      "Metric       | Value     | Dataset \n",
      "__________________________________\n",
      "Accuracy     | 0.9039    | train   \n",
      "Precision    | 0.9047    | train   \n",
      "Recall       | 0.9039    | train   \n",
      "F1Score      | 0.9032    | train   \n",
      "__________________________________\n",
      "Accuracy     | 0.458     | test    \n",
      "Precision    | 0.4633    | test    \n",
      "Recall       | 0.458     | test    \n",
      "F1Score      | 0.4553    | test    \n",
      "\n",
      "Logistic Regressor\n",
      "\n",
      "Metric       | Value     | Dataset \n",
      "__________________________________\n",
      "Accuracy     | 0.4599    | train   \n",
      "Precision    | 0.4638    | train   \n",
      "Recall       | 0.4599    | train   \n",
      "F1Score      | 0.456     | train   \n",
      "__________________________________\n",
      "Accuracy     | 0.4757    | test    \n",
      "Precision    | 0.4845    | test    \n",
      "Recall       | 0.4757    | test    \n",
      "F1Score      | 0.4743    | test    \n"
     ]
    }
   ],
   "source": [
    "# Compare the models\n",
    "print('Random Forest\\n')\n",
    "print_metrics(ypredTrain=rfr_pred,\n",
    "              ypredTest=best_rfr.predict(X_test))\n",
    "\n",
    "print('\\nLogistic Regressor\\n')\n",
    "print_metrics(ypredTrain=logreg_pred,\n",
    "              ypredTest=best_logreg.predict(X_test))"
   ]
  },
  {
   "cell_type": "markdown",
   "id": "ad24dbc2-fe3d-448e-a2a4-8a3063c7a824",
   "metadata": {
    "tags": []
   },
   "source": [
    "### Analyzing GridSearch Metrics\n",
    "\n",
    "Let's now observe the metrics of the 2 models we chose to optimize.\n",
    "\n",
    "Random Forest:\n",
    "\n",
    "* After performing grid search, the model's performance on the training dataset improves, with an accuracy of 0.9039 and F1 score of 0.9032. This indicates better generalization compared to the base model.\n",
    "* On the test dataset, the model's accuracy slightly increases to 0.458, and the F1 score improves to 0.4553. Although there is an improvement, the performance is still not satisfactory, suggesting that further adjustments may be necessary.\n",
    "\n",
    "\n",
    "Logistic Regressor:\n",
    "\n",
    "* After grid search, the model's performance on the training dataset improves slightly, with an accuracy of 0.4599 and F1 score of 0.456.\n",
    "* On the test dataset, the model's accuracy increases to 0.4757, and the F1 score improves to 0.4743. While there is some improvement, the performance is still not significantly better than the base model.\n",
    "\n",
    "\n",
    "Overall, based on the provided results, it appears that the base models are either overfitting or not capturing the patterns in the data effectively. The models after grid search show some improvements, but the test performance still falls short. Let's explore a different techniques to see if we can achieve better results."
   ]
  },
  {
   "cell_type": "markdown",
   "id": "6205501b-48d5-47cc-bc9b-088698c930b9",
   "metadata": {
    "tags": []
   },
   "source": [
    "## Neural Network Approach\n",
    "____"
   ]
  },
  {
   "cell_type": "code",
   "execution_count": null,
   "id": "7c37baba-9894-430d-9be8-f3d0b8ae56a0",
   "metadata": {},
   "outputs": [],
   "source": [
    "import torch\n",
    "import torch.nn as nn\n",
    "import torch.optim as optim\n",
    "from torch.utils.data import DataLoader, TensorDataset\n",
    "from collections import OrderedDict\n",
    "from torch.optim.lr_scheduler import StepLR, ReduceLROnPlateau, MultiStepLR\n",
    "\n",
    "# Define the neural network architecture\n",
    "class RankPredictionNet(nn.Module):\n",
    "    \n",
    "    def __init__(\n",
    "        self, \n",
    "        in_features,\n",
    "        hidden_size,\n",
    "        num_classes,\n",
    "        activation_fun=nn.ReLU(),\n",
    "        layers=2\n",
    "    ):\n",
    "        \n",
    "        super(RankPredictionNet, self).__init__() # Instatitate parent class\n",
    "        self.softmax = nn.Softmax(dim=1)\n",
    "        \n",
    "        self.fc_module = nn.Sequential(OrderedDict([\n",
    "            ('InputLayer', nn.Linear(in_features, hidden_size)),\n",
    "            ('Input_actfun', activation_fun),\n",
    "            ('Input_BatchNorm', nn.BatchNorm1d(hidden_size))\n",
    "        ]))\n",
    "        \n",
    "        for i in range(1, layers):\n",
    "            new_hidden_size = int(hidden_size // 2)\n",
    "            self.fc_module.add_module(\n",
    "                'fc%i' % (i),\n",
    "                 nn.Linear(hidden_size, new_hidden_size)\n",
    "            )\n",
    "            if i < layers:\n",
    "                self.fc_module.add_module(\n",
    "                'ReLU_%i' % (i),\n",
    "                 activation_fun\n",
    "            )\n",
    "                self.fc_module.add_module(\n",
    "                'BatchNorm_%i' % (i),\n",
    "                 nn.BatchNorm1d(new_hidden_size)\n",
    "            )\n",
    "            hidden_size = new_hidden_size\n",
    "            \n",
    "        self.fc_module.add_module('Output_layer', nn.Linear(hidden_size, num_classes))\n",
    "    \n",
    "    def forward(self, x):\n",
    "        Xhat = self.fc_module(x)\n",
    "        Yhat = self.softmax(Xhat)\n",
    "        return Yhat"
   ]
  },
  {
   "cell_type": "code",
   "execution_count": null,
   "id": "752c66d6-1af0-46d6-93f0-e2213c6e783f",
   "metadata": {},
   "outputs": [],
   "source": [
    "X_train, X_test, y_train, y_test = dataset.get_train_test_data(scaled=True, test_size=.1)"
   ]
  },
  {
   "cell_type": "code",
   "execution_count": null,
   "id": "687ddcc8-4d75-401e-9f0f-570b023c7590",
   "metadata": {},
   "outputs": [],
   "source": [
    "# Convert data into PyTorch tensors and create a DataLoader\n",
    "train_data = TensorDataset(torch.Tensor(X_train.values), torch.LongTensor(y_train - 2))\n",
    "train_loader = DataLoader(train_data, batch_size=256, shuffle=True)\n",
    "\n",
    "test_data = TensorDataset(torch.Tensor(X_test.values), torch.LongTensor(y_test.values - 2))\n",
    "test_loader = DataLoader(test_data, batch_size=128, shuffle=True)"
   ]
  },
  {
   "cell_type": "code",
   "execution_count": null,
   "id": "163381bb-dd44-491c-985f-800a2dca615b",
   "metadata": {},
   "outputs": [],
   "source": [
    "# Define the loss function and optimizer\n",
    "criterion = nn.CrossEntropyLoss() "
   ]
  },
  {
   "cell_type": "code",
   "execution_count": null,
   "id": "b3ea5797-d9ae-4221-8454-3ec65c1837b4",
   "metadata": {},
   "outputs": [],
   "source": [
    "# Set the hyperparameters\n",
    "in_features = X_train.shape[-1]# Specify the input size based on the number of features in your dataset\n",
    "hidden_size = 400 #128 # Define the number of nodes in the hidden layer\n",
    "num_classes = 5  # Number of output classes (ranks)\n",
    "\n",
    "# Create an instance of the neural network\n",
    "model = RankPredictionNet(in_features, hidden_size, num_classes, layers=6, activation_fun=nn.ReLU())"
   ]
  },
  {
   "cell_type": "code",
   "execution_count": null,
   "id": "4f9316f3-c005-4b2f-9640-d86617a2eebc",
   "metadata": {},
   "outputs": [],
   "source": [
    "optimizer = optim.Adam(model.parameters(), lr=1e-3)"
   ]
  },
  {
   "cell_type": "code",
   "execution_count": null,
   "id": "8c3d4917-f02c-4cfc-8c38-1356eb0cdc06",
   "metadata": {},
   "outputs": [
    {
     "name": "stdout",
     "output_type": "stream",
     "text": [
      "Epoch 1/500 | Train Loss: 1.5529 | Validation Loss: 1.5969\n",
      "Epoch 51/500 | Train Loss: 1.1895 | Validation Loss: 1.4610\n",
      "Epoch 101/500 | Train Loss: 1.1699 | Validation Loss: 1.4811\n",
      "Epoch 151/500 | Train Loss: 1.1574 | Validation Loss: 1.4590\n",
      "Epoch 201/500 | Train Loss: 1.1397 | Validation Loss: 1.4581\n",
      "Epoch 251/500 | Train Loss: 1.1499 | Validation Loss: 1.4760\n",
      "Epoch 301/500 | Train Loss: 1.1335 | Validation Loss: 1.4512\n",
      "Epoch 351/500 | Train Loss: 1.1245 | Validation Loss: 1.4465\n",
      "Epoch 401/500 | Train Loss: 1.1332 | Validation Loss: 1.4298\n",
      "Epoch 451/500 | Train Loss: 1.1078 | Validation Loss: 1.4399\n"
     ]
    }
   ],
   "source": [
    "# Training loop\n",
    "num_epochs = 500\n",
    "\n",
    "for epoch in range(num_epochs):\n",
    "    running_loss = 0.0\n",
    "    \n",
    "    for inputs, labels in train_loader:\n",
    "        optimizer.zero_grad()\n",
    "        \n",
    "        # Forward pass\n",
    "        outputs = model(inputs)\n",
    "        \n",
    "        # Compute the loss\n",
    "        loss = criterion(outputs, labels)\n",
    "        \n",
    "        # Backward pass and optimization\n",
    "        loss.backward()\n",
    "        optimizer.step()\n",
    "        \n",
    "        running_loss += loss.item()\n",
    "        \n",
    "    # Validation phase\n",
    "    model.eval()\n",
    "    validation_loss = 0.0\n",
    "    with torch.no_grad():\n",
    "        for inputs, labels in test_loader:\n",
    "            outputs = model(inputs)\n",
    "            loss = criterion(outputs, labels)\n",
    "            validation_loss += loss.item()\n",
    "            \n",
    "    # Compute the average validation loss\n",
    "    validation_loss /= len(test_loader)\n",
    "    \n",
    "    # Print the average test loss for this epoch\n",
    "    if epoch % 50 == 0:\n",
    "        epoch_loss = running_loss / len(train_loader)\n",
    "        print(f\"Epoch {epoch+1}/{num_epochs} | Train Loss: {epoch_loss:.4f} | Validation Loss: {validation_loss:.4f}\")\n",
    "        \n",
    "    # scheduler.step()"
   ]
  },
  {
   "cell_type": "code",
   "execution_count": null,
   "id": "00a9bb01-4bf1-4586-9719-e7c2d3d35fd7",
   "metadata": {
    "tags": []
   },
   "outputs": [],
   "source": [
    "# After training, you can make predictions using the trained model\n",
    "# Assuming you have X_test as your test data\n",
    "test_inputs = torch.Tensor(X_test.values)\n",
    "train_inputs = torch.Tensor(X_train.values)\n",
    "with torch.no_grad():\n",
    "    model.eval()\n",
    "    predicted_probs = model(test_inputs)\n",
    "    predicted_labels_test = torch.argmax(predicted_probs, dim=1) + 2\n",
    "    \n",
    "    predicted_probs = model(train_inputs)\n",
    "    predicted_labels_train = torch.argmax(predicted_probs, dim=1) + 2"
   ]
  },
  {
   "cell_type": "code",
   "execution_count": null,
   "id": "929eb5a5-0dfd-4150-997b-923d19865b80",
   "metadata": {},
   "outputs": [
    {
     "name": "stdout",
     "output_type": "stream",
     "text": [
      "Neural Network\n",
      "\n",
      "Metric       | Value     | Dataset \n",
      "__________________________________\n",
      "Accuracy     | 0.7921    | train   \n",
      "Precision    | 0.792     | train   \n",
      "Recall       | 0.7921    | train   \n",
      "F1Score      | 0.791     | train   \n",
      "__________________________________\n",
      "Accuracy     | 0.4559    | test    \n",
      "Precision    | 0.4448    | test    \n",
      "Recall       | 0.4559    | test    \n",
      "F1Score      | 0.4479    | test    \n"
     ]
    }
   ],
   "source": [
    "print('Neural Network\\n')\n",
    "print_metrics(ypredTrain=predicted_labels_train.numpy(), ytrueTrain=y_train,\n",
    "              ypredTest=predicted_labels_test.numpy(), ytrueTest=y_test)"
   ]
  },
  {
   "cell_type": "markdown",
   "id": "2eae8925-fce8-4422-b205-b897769f3ad6",
   "metadata": {},
   "source": [
    "Based on the provided results for the Neural Network model, let's analyze its performance:\n",
    "\n",
    "**Training Dataset:**\n",
    "\n",
    "* The model achieves an accuracy of 0.7921, precision of 0.792, recall of 0.7921, and an F1 score of 0.791 on the training dataset.\n",
    "* These metrics indicate that the model performs reasonably well on the training data, capturing patterns and making correct predictions with a good overall balance between precision and recall.\n",
    "\n",
    "**Test Dataset:**\n",
    "\n",
    "* On the test dataset, the model's performance is lower compared to the training dataset.\n",
    "* The accuracy is 0.4559, precision is 0.4448, recall is 0.4559, and the F1 score is 0.4479.\n",
    "\n",
    "The lower values of these metrics suggest that the model struggles to generalize well to unseen data, indicating a potential issue of overfitting or not capturing the underlying patterns effectively."
   ]
  },
  {
   "cell_type": "markdown",
   "id": "ea28b254-8b70-4d46-a1c1-174387d38022",
   "metadata": {},
   "source": [
    "## Final Analysis\n",
    "___\n",
    "At this stage, we have explored 5 different models and explored further on the Logistic Regression, Random Forest and Neural Network models. The overall performance of all models is subparts and the random forest shows signs of overfitting. Despite our best efforts to optimize the hyperparameter, it seems that the model struggles to generalize the key features of the dataset.\n",
    "\n",
    "Let's take a closer look at how each of the optimize models tend to classify players to get a better sense of the inference approach of the models."
   ]
  },
  {
   "cell_type": "code",
   "execution_count": null,
   "id": "3fed1f2b-dbf3-44b3-a144-7ff069c66d21",
   "metadata": {},
   "outputs": [
    {
     "data": {
      "image/png": "[encoded data removed]",
      "text/plain": [
       "<Figure size 432x288 with 2 Axes>"
      ]
     },
     "metadata": {
      "needs_background": "light"
     },
     "output_type": "display_data"
    }
   ],
   "source": [
    "plot_heatmap(y_test, predicted_labels_test.numpy())"
   ]
  },
  {
   "cell_type": "code",
   "execution_count": 35,
   "id": "6e2173b7-0706-4aec-8f9f-0fa183281513",
   "metadata": {},
   "outputs": [
    {
     "name": "stdout",
     "output_type": "stream",
     "text": [
      "\n",
      "Random Forest Confustion Matrix\n"
     ]
    },
    {
     "data": {
      "image/png": "[encoded data removed]",
      "text/plain": [
       "<Figure size 432x288 with 2 Axes>"
      ]
     },
     "metadata": {
      "needs_background": "light"
     },
     "output_type": "display_data"
    },
    {
     "name": "stdout",
     "output_type": "stream",
     "text": [
      "\n",
      "Logistic Regressor Confustion Matrix\n"
     ]
    },
    {
     "data": {
      "image/png": "[encoded data removed]",
      "text/plain": [
       "<Figure size 432x288 with 2 Axes>"
      ]
     },
     "metadata": {
      "needs_background": "light"
     },
     "output_type": "display_data"
    }
   ],
   "source": [
    "print('\\nRandom Forest Confustion Matrix')\n",
    "plot_heatmap(y_test, best_rfr.predict(X_test))\n",
    "print('\\nLogistic Regressor Confustion Matrix')\n",
    "plot_heatmap(y_test, best_logreg.predict(X_test))"
   ]
  },
  {
   "cell_type": "markdown",
   "id": "f775cbb8-7567-4abd-9173-e4270b5fe3cb",
   "metadata": {},
   "source": [
    "As we previously mentioned, the confusion matrix provides valuable insights into the performance of a classification model. We note that all 3 models show the same pattern as shown by their respective confusiton matrix:\n",
    "\n",
    "* The model performs relatively well in predicting the 'Competitive' class, as it correctly predicts most instances of this class, with only a few instances misclassified as 'Platinum'.\n",
    "* The 'Bronze' class is also predicted quite well, with most instances correctly classified and only a few instances misclassified as 'Silver'.\n",
    "* The model struggles with the 'Silver' class, as it misclassifies on average 15 instances as 'Gold' and 20 instances as 'Platinum', resulting in a lower accuracy for this class.\n",
    "* The 'Gold', 'Platinum', and 'Diamond' classes show a pattern of increasing misclassifications as the predicted class moves towards higher levels. For example, 'Gold' is frequently misclassified as 'Platinum' and 'Diamond'.\n",
    "* The 'Platinum' class exhibits a similar pattern, with many instances misclassified as 'Diamond' and 'Competitive'.\n",
    "* The 'Diamond' class is frequently misclassified as 'Competitive', 'Platinum', and 'Gold'.\n",
    "\n",
    "Overall, the confusion matrix suggests that the model struggles with distinguishing between adjacent classes, such as 'Silver' and 'Gold', 'Gold' and 'Platinum', and so on.\n",
    "\n",
    "#### **Closing Remarks**\n",
    "\n",
    "In conclusion, it is worth noting that despite using different algorithms and models (logistic regressor, random forest, and neural network), all three models exhibit a similar pattern in their respective confusion matrices. This consistency across the models suggests that the underlying problem or data characteristics may be responsible for the observed pattern in misclassifications.\n",
    "\n",
    "Identifying the common patterns and sources of misclassifications across the models can provide valuable insights for further analysis and model improvement. It could indicate areas of the dataset that require more attention, feature engineering, or data preprocessing techniques to enhance the model's performance.\n",
    "\n",
    "Therefore, this observation highlights the importance of thoroughly analyzing the results and patterns across different models to gain a deeper understanding of the data and improve the overall classification performance. It also emphasizes the iterative nature of model development, where insights gained from one model can inform and guide the improvement of subsequent models."
   ]
  }
 ],
 "metadata": {
  "kernelspec": {
   "display_name": "Python 3",
   "language": "python",
   "name": "python3"
  },
  "language_info": {
   "codemirror_mode": {
    "name": "ipython",
    "version": 3
   },
   "file_extension": ".py",
   "mimetype": "text/x-python",
   "name": "python",
   "nbconvert_exporter": "python",
   "pygments_lexer": "ipython3",
   "version": "3.8.5"
  },
  "toc-autonumbering": false,
  "toc-showcode": false
 },
 "nbformat": 4,
 "nbformat_minor": 5
}
